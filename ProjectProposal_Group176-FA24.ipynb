{
 "cells": [
  {
   "cell_type": "markdown",
   "metadata": {},
   "source": [
    "# COGS 108 - Project Proposal"
   ]
  },
  {
   "cell_type": "markdown",
   "metadata": {},
   "source": [
    "# Names\n",
    "\n",
    "- Scott Benninger\n",
    "- Ruben Melikyan\n",
    "- Ethan Fastovsky\n",
    "- Noah Cramer\n",
    "- Shion Okino"
   ]
  },
  {
   "cell_type": "markdown",
   "metadata": {},
   "source": [
    "# Research Question"
   ]
  },
  {
   "cell_type": "markdown",
   "metadata": {},
   "source": [
    "Is unemployment rate the most significant macroeconomic factor that predicts stock market volatility in the United States from 1995 to 2023?\n",
    "\n",
    "Macro economic factors for consideration: unemployment, CPI, Core Inflation, Aggregated Consumption, Investment levels, U.S. Economy  Exchange Rate\n",
    "\n"
   ]
  },
  {
   "cell_type": "markdown",
   "metadata": {},
   "source": [
    "## Background and Prior Work"
   ]
  },
  {
   "cell_type": "markdown",
   "metadata": {},
   "source": [
    "Since a couple of us are economics majors with aspirations in finance, we are particularly interested in understanding how macroeconomic indicators influence stock market dynamics and decided to take our project in such a direction. Through this project, we aim to deepen our knowledge of the economic forces that drive stock market volatility. This project not only aligns with our academic background but also prepares us for future roles in finance, where understanding these relationships is essential for informed decision-making.\n",
    "Stock market volatility is influenced by a complex interplay of economic forces, and understanding these relationships has been a longstanding focus in economic and financial research. Macroeconomic indicators such as unemployment, inflation, and interest rates serve as signals of economic health, impacting market stability and investor sentiment. Recent work recognized by the Nobel Prize in Economic Sciences highlights the role these indicators play in national economic cycles, exploring how fluctuations in key factors can signal periods of growth or downturn. One notable exploration of these dynamics is found in Why Nations Rise and Fall, which underscores how these economic indicators not only track but often predict shifts in stability and growth.\n",
    "\n",
    "Beyond this, a couple of us have previously read Fama’s 1981 work, Stock Returns, Real Activity, Inflation, and Money, emphasizing the importance of understanding how key economic indicators impact stock market performance. Fama’s research found that inflation, in particular, has a significant inverse relationship with stock returns, where higher inflation diminishes purchasing power and investor confidence, often leading to market volatility and downturns. This finding is highly relevant to our project, as it illustrates the role of macroeconomic indicators—like inflation and unemployment—in shaping financial markets. By examining unemployment as a potential primary predictor of stock market volatility, we aim to build on Fama’s insights, analyzing whether this variable still holds unique predictive power over other indicators, such as the Consumer Price Index (CPI), during different economic cycles. \n",
    "\n",
    "Probably most directly useful is a research paper Chen, Roll, and Ross (1986) in Economic Forces and the Stock Market which examined how macroeconomic factors, including unemployment, influence stock market returns. They found that rising unemployment often signals reduced consumer spending and lower corporate earnings, which can drive stock prices down due to weakened investor confidence. Drawing from these findings among analysis of other variables, our project will investigate whether unemployment alone is a leading predictor of stock market volatility, or if other indicators, such as the CPI, play a more significant role.\n",
    "\n",
    "Citations:\n",
    "Fama, E. F. (1981). Stock Returns, Real Activity, Inflation, and Money. The American Economic Review, 71(4), 545–565. https://www.jstor.org/stable/1806180 \n",
    "Chen, N. F., Roll, R., & Ross, S. A. (1986). Economic Forces and the Stock Market. The Journal of Business, 59(3), 383–403. https://www.jstor.org/stable/2352710\n",
    "Acemoglu, D., & Robinson, J. A. (2012). Why Nations Fail: The Origins of Power, Prosperity, and Poverty. Crown Publishers.\n"
   ]
  },
  {
   "cell_type": "markdown",
   "metadata": {},
   "source": [
    "# Hypothesis\n"
   ]
  },
  {
   "cell_type": "markdown",
   "metadata": {},
   "source": [
    "We hypothesize that a regression would reveal that unemployment rate is the most significant predictor of stock market volatility in the United States from 1995 to 2023. Historically, higher unemployment rates correlate with economic downturns, which are often accompanied by increased volatility in the stock market.  Additionally, unemployment data is one of the most highly anticipated and watched macroeconomic indicators by investors to determine potential recessions and expansions to selected appropriate buying and selling opportunities. Therefore, unemployment would likely be the most significant predicted of stock market deviations from stock market projections.Therefore, we predict a strong correlation between unemployment rates and stock market volatility, suggesting that fluctuations in unemployment may be a key indicator of broader market movements.\n"
   ]
  },
  {
   "cell_type": "markdown",
   "metadata": {},
   "source": [
    "# Data"
   ]
  },
  {
   "cell_type": "markdown",
   "metadata": {},
   "source": [
    "The ideal dataset for our question would encompass key macroeconomic indicators such as unemployment rates, core price index, aggregate consumption, investment levels, and exchange rates for the U.S. economy. Essential variables would include the year, relevant states, and the United States as a whole, providing flexibility for conducting analysis on both a state-by-state basis and a broader national level. Due to the complexity of accurately measuring and collecting macroeconomic data, this information would ideally come from authoritative U.S. federal institutions or major international monetary organizations. Reliable sources include the U.S. Federal Reserve, Bureau of Labor Statistics (BLS), World Bank, and the International Monetary Fund (IMF). To enable nuanced analysis, data should include both annual and quarterly observations, allowing us to capture trends and fluctuations within recessionary and expansionary periods. To ensure the robustness of the analysis and minimize the impact of unique economic events, the dataset should ideally span at least 20 years, providing enough observations to control for external factors like the dot-com bubble, housing crisis, and COVID-19 pandemic.\n",
    "\n",
    "Regarding the ideal dataset for this analysis would use data collected by the Bureau of Labor Statistics (BLS) through the Current Population Survey (CPS) and the Current Employment Statistics (CES) survey, both primary-source research methods that provide robust and integral data for our analysis. The Federal Reserve’s FRED system compiles data from government agencies and private sources, cross-referencing and standardizing it. These data collection methods are ideal for providing reliable information to determine the most significant macroeconomic indicator for predicting stock market fluctuations. Ideally, this data would be in one file, with macroeconomic indicators as columns and years and quarters of observations as rows. A second dataset with state-level data for the same timeframe would also be ideal for a more micro-level analysis.\n",
    "\n",
    "Potential datasets: \n",
    "\n",
    "https://datacatalog.worldbank.org/search/dataset/0037798/Global-Economic-Monitor\n",
    "https://fred.stlouisfed.org/tags/series?t=consumption+expenditures \n",
    "\n",
    "\n",
    "Last updated October 2024\n",
    "\n",
    "Differences from Ideal Dataset: This data differs from our ideal dataset, as it is not organized by quarters or individual states, limiting some granular analyses we planned. Additionally, while it covers a substantial time span, its format requires adjustments to align with our analysis requirements, such as standardizing time intervals and possibly supplementing missing state-level details.\n",
    "Data is Procurable: The data is sourced from reputable international and national institutions, ensuring a high level of reliability and consistency across economic indicators. The World Bank’s extensive resources, backed by the UN, and the Federal Reserve’s FRED database provide access to verified data, making it an accessible and dependable foundation for analyzing U.S. macroeconomic trends.\n"
   ]
  },
  {
   "cell_type": "markdown",
   "metadata": {},
   "source": [
    "# Ethics & Privacy"
   ]
  },
  {
   "cell_type": "markdown",
   "metadata": {},
   "source": [
    "There could be ethical concerns regarding \n",
    "\n",
    "Biases/Privacy/Terms of Use: World Bank U.S. data is generally public and follows strict data privacy and usage standards. However, potential biases can arise due to the structure of reported metrics and reliance on government and institutional sources, which might reflect particular economic priorities or omit certain demographic nuances.\n",
    "Potential Biases in Composition: U.S. World Bank data might underrepresent specific subpopulations or regional economic conditions, especially if it aggregates across states or overlooks informal economies. Additionally, while U.S. data is generally comprehensive, it might still exclude or simplify information from marginalized communities or rural areas, which could skew results.  When analyzing the stock market, it is possible that it will not adequately represent activity by lower income populations as this market tends to be influenced primarily by wealthy investors.\n",
    "Detecting Biases: To detect these biases, we’ll review data for representativeness across different demographics and states, looking for gaps in coverage or skewed trends. Cross-checking with other sources, like the Bureau of Labor Statistics, will also help validate findings and identify potential issues during analysis.\n",
    "Other Issues (Privacy & Equitable Impact): While anonymized, the data could still emphasize economic conditions linked to sensitive attributes, such as income disparities. To avoid unintended biases, we’ll contextualize findings carefully to avoid reinforcing stereotypes or inequities.\n",
    "Handling Issues Identified: We’ll adjust models to account for possible underreporting in certain states or demographics and provide transparency about these limitations in our communication. Sensitivity analyses and clear statements about data limitations will also help ensure fair, unbiased interpretations.\n"
   ]
  },
  {
   "cell_type": "markdown",
   "metadata": {},
   "source": [
    "# Team Expectations "
   ]
  },
  {
   "cell_type": "markdown",
   "metadata": {},
   "source": [
    "Check our discord regularly for any updates\n",
    "\n",
    "Respond promptly to texts in our group chat\n",
    "\n",
    "Let everyone know if you are unable to attend our meeting times\n",
    "\n",
    "Be communicative and transparent if you can’t get your share of the work done\n",
    "\n",
    "Be respectful and understanding to every team member\n",
    "\n",
    "General Roles (Everyone should assist with each part)\n",
    "\n",
    "Scott - Clean Data, Create initial visualizations \n",
    "\n",
    "Ruben  -  Clean Data, Create initial visualizations \n",
    "\n",
    "Ethan -  Double Check Visualizations and Data - Analysis, Discussion \n",
    "\n",
    "Noah - Analysis, Conclusion, Discussion\n",
    "\n",
    "Shion - Analysis, Conclusion, Discussion\n"
   ]
  },
  {
   "cell_type": "markdown",
   "metadata": {},
   "source": [
    "# Project Timeline Proposal"
   ]
  },
  {
   "cell_type": "markdown",
   "metadata": {},
   "source": [
    "**All meetings are tentatively set to 11:30 a.m., however further communication prior to our meetings will ensue**\n",
    "\n",
    "\n",
    "| Meeting Date  | Meeting Time| Completed Before Meeting  | Discuss at Meeting |\n",
    "|---|---|---|---|\n",
    "| 10/28  |  11:30 AM | Read Ruben's proposed ideas; brainstorm topics/questions  | Finalize our question and understand our roles within the project going forward| \n",
    "| 11/11  |  11:30 AM |  Checkpoint #1: Data due on Wednesday. Ruben and Scott should have our datasets cleaned and ready to have analysis performed on it| Ruben and Scott will present the cleaned data and we will discuss how to continue on with our project. Discuss possible analytical approaches\n",
    "| 11/25  | 11:30 AM  | Checkpoint #2: EDA* is due on Wednesday. Scott and Ruben should finalize wrangling; Ethan and Noah should continue to perform EDA, | Address any concerns with the EDA process, and discuss further advanced analysis and new directions to take the project  |\n",
    "| 12/02| 11:30 AM  | wrap up any data analysis and go through any completed work | Figure out the best time to film our final video, and discuss anything that should be changed.|\n",
    "| 12/09  | 11:30 AM  | Shion should conclude our paper and go through intently and fix anything that needs fixing | Wrap up our project. Ensure we are happy with our results and have the project turned in 2 days early to avoid any last minute issues. |"
   ]
  },
  {
   "cell_type": "code",
   "execution_count": null,
   "metadata": {},
   "outputs": [],
   "source": []
  }
 ],
 "metadata": {
  "kernelspec": {
   "display_name": "Python 3 (ipykernel)",
   "language": "python",
   "name": "python3"
  },
  "language_info": {
   "codemirror_mode": {
    "name": "ipython",
    "version": 3
   },
   "file_extension": ".py",
   "mimetype": "text/x-python",
   "name": "python",
   "nbconvert_exporter": "python",
   "pygments_lexer": "ipython3",
   "version": "3.10.14"
  }
 },
 "nbformat": 4,
 "nbformat_minor": 4
}
